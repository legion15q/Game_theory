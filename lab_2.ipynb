{
 "cells": [
  {
   "cell_type": "code",
   "execution_count": 2,
   "id": "8b3b8c7e-24f6-4a76-8809-d93d09921690",
   "metadata": {},
   "outputs": [],
   "source": [
    "import numpy as np\n"
   ]
  },
  {
   "cell_type": "code",
   "execution_count": 40,
   "id": "ba810845-ec53-47d5-8aba-7df83d86fa68",
   "metadata": {},
   "outputs": [],
   "source": [
    "c = np.array([[1,11,11], [7,5,8], [16,6,2]])"
   ]
  },
  {
   "cell_type": "code",
   "execution_count": 41,
   "id": "b75715dd-cc59-4419-929b-fb628406c694",
   "metadata": {},
   "outputs": [],
   "source": [
    "u = np.array([1,1,1])"
   ]
  },
  {
   "cell_type": "code",
   "execution_count": 45,
   "id": "33e6a545-e57b-4a1c-96e6-4b4ad2d9e694",
   "metadata": {},
   "outputs": [],
   "source": [
    "v = 1/(np.dot(np.dot(u, np.linalg.inv(c)), np.transpose(u)))"
   ]
  },
  {
   "cell_type": "code",
   "execution_count": 46,
   "id": "980b0d91-5fe9-480e-a856-515c915ff835",
   "metadata": {},
   "outputs": [
    {
     "name": "stdout",
     "output_type": "stream",
     "text": [
      "7.3888888888888875\n"
     ]
    }
   ],
   "source": [
    "print(v)"
   ]
  },
  {
   "cell_type": "code",
   "execution_count": 47,
   "id": "799a1e4b-628c-464d-8fb0-34de4d66865e",
   "metadata": {},
   "outputs": [],
   "source": [
    "x_star = np.dot(np.linalg.inv(c),np.transpose(u))/np.dot(np.dot(u, np.linalg.inv(c)), np.transpose(u))"
   ]
  },
  {
   "cell_type": "code",
   "execution_count": 48,
   "id": "2e474b54-3b4b-468d-822d-9cd26eb20a36",
   "metadata": {},
   "outputs": [
    {
     "name": "stdout",
     "output_type": "stream",
     "text": [
      "[0.36111111 0.08333333 0.55555556]\n"
     ]
    }
   ],
   "source": [
    "print(x_star)"
   ]
  },
  {
   "cell_type": "code",
   "execution_count": 49,
   "id": "b0ad60fb-c623-4b86-a11b-0c4a3b6623da",
   "metadata": {},
   "outputs": [],
   "source": [
    "y_star = np.dot(u, np.linalg.inv(c))/ np.dot(np.dot(u, np.linalg.inv(c)), np.transpose(u))"
   ]
  },
  {
   "cell_type": "code",
   "execution_count": 50,
   "id": "fd886a05-3139-4b26-86ae-58c011a904a5",
   "metadata": {},
   "outputs": [
    {
     "name": "stdout",
     "output_type": "stream",
     "text": [
      "[0.35185185 0.37037037 0.27777778]\n"
     ]
    }
   ],
   "source": [
    "print(y_star)"
   ]
  },
  {
   "cell_type": "code",
   "execution_count": null,
   "id": "2f8fa387-7728-48f4-ad52-449f7faa12fd",
   "metadata": {},
   "outputs": [],
   "source": []
  }
 ],
 "metadata": {
  "kernelspec": {
   "display_name": "Python 3 (ipykernel)",
   "language": "python",
   "name": "python3"
  },
  "language_info": {
   "codemirror_mode": {
    "name": "ipython",
    "version": 3
   },
   "file_extension": ".py",
   "mimetype": "text/x-python",
   "name": "python",
   "nbconvert_exporter": "python",
   "pygments_lexer": "ipython3",
   "version": "3.9.6"
  }
 },
 "nbformat": 4,
 "nbformat_minor": 5
}
